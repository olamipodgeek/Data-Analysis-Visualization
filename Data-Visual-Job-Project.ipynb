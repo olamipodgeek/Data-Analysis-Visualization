{
 "cells": [
  {
   "cell_type": "markdown",
   "id": "fec63ad8",
   "metadata": {},
   "source": [
    "#### Your task is to investigate the data visually and present some conclusions about any characteristics you\n",
    "#### discover, including correlations, seasonal behaviour, outliers, etc., together with a suggestion about how the\n",
    "#### data might be best segmented, based on the total volume of visits at each outlet."
   ]
  },
  {
   "cell_type": "markdown",
   "id": "ae2306ad",
   "metadata": {},
   "source": [
    "    daily_customer_data=pd.read_csv('https://raw.githubusercontent.com/ChrisWalshaw/DataViz/master/Data/001250463/OutletDailyCustomers.csv')\n",
    "\n",
    "    outletmarketing = pd.read_csv('https://tinyurl.com/ChrisCoDV/001250463/OutletMarketing.csv')\n",
    "\n",
    "    outletoverhead = pd.read_csv('https://tinyurl.com/ChrisCoDV/001250463/OutletOverheads.csv')\n",
    "\n",
    "    outletsize = pd.read_csv('https://tinyurl.com/ChrisCoDV/001250463/OutletSize.csv')\n",
    "\n",
    "    outletstaff = pd.read_csv('https://tinyurl.com/ChrisCoDV/001250463/OutletStaff.csv')"
   ]
  },
  {
   "cell_type": "code",
   "execution_count": null,
   "id": "09b51c49",
   "metadata": {},
   "outputs": [],
   "source": []
  },
  {
   "cell_type": "code",
   "execution_count": null,
   "id": "53d77a80",
   "metadata": {},
   "outputs": [],
   "source": []
  },
  {
   "cell_type": "code",
   "execution_count": 2,
   "id": "d5728207",
   "metadata": {},
   "outputs": [],
   "source": [
    "#IMPORT LIBRARIES\n",
    "\n",
    "import pandas as pd\n",
    "import seaborn as sns\n",
    "import matplotlib.pyplot as plt\n",
    "from datetime import datetime\n",
    "import warnings\n",
    "warnings.filterwarnings('ignore')\n",
    "%matplotlib inline"
   ]
  },
  {
   "cell_type": "code",
   "execution_count": 3,
   "id": "ec266661",
   "metadata": {},
   "outputs": [],
   "source": [
    "#READ IN DATA USING PANDAS\n",
    "\n",
    "daily_customer_data = pd.read_csv('OutletDailyCustomers.csv')\n",
    "outletmarketing = pd.read_csv('OutletMarketing.csv')\n",
    "outletoverhead = pd.read_csv('OutletOverheads.csv')\n",
    "outletsize = pd.read_csv('OutletSize.csv')\n",
    "outletstaff = pd.read_csv('OutletStaff.csv')"
   ]
  },
  {
   "cell_type": "code",
   "execution_count": 4,
   "id": "ce8fba63",
   "metadata": {},
   "outputs": [
    {
     "data": {
      "text/html": [
       "<div>\n",
       "<style scoped>\n",
       "    .dataframe tbody tr th:only-of-type {\n",
       "        vertical-align: middle;\n",
       "    }\n",
       "\n",
       "    .dataframe tbody tr th {\n",
       "        vertical-align: top;\n",
       "    }\n",
       "\n",
       "    .dataframe thead th {\n",
       "        text-align: right;\n",
       "    }\n",
       "</style>\n",
       "<table border=\"1\" class=\"dataframe\">\n",
       "  <thead>\n",
       "    <tr style=\"text-align: right;\">\n",
       "      <th></th>\n",
       "      <th>Date</th>\n",
       "      <th>PFQ</th>\n",
       "      <th>DSA</th>\n",
       "      <th>EEC</th>\n",
       "      <th>HTF</th>\n",
       "      <th>XSB</th>\n",
       "      <th>EYS</th>\n",
       "      <th>AYD</th>\n",
       "      <th>RAN</th>\n",
       "      <th>CTH</th>\n",
       "      <th>...</th>\n",
       "      <th>QZF</th>\n",
       "      <th>CNW</th>\n",
       "      <th>FZI</th>\n",
       "      <th>YMQ</th>\n",
       "      <th>NFH</th>\n",
       "      <th>NLT</th>\n",
       "      <th>IZX</th>\n",
       "      <th>LLK</th>\n",
       "      <th>IFI</th>\n",
       "      <th>HZQ</th>\n",
       "    </tr>\n",
       "  </thead>\n",
       "  <tbody>\n",
       "    <tr>\n",
       "      <th>0</th>\n",
       "      <td>2021-01-01</td>\n",
       "      <td>77</td>\n",
       "      <td>1260</td>\n",
       "      <td>1006</td>\n",
       "      <td>98</td>\n",
       "      <td>0</td>\n",
       "      <td>881</td>\n",
       "      <td>0</td>\n",
       "      <td>1956</td>\n",
       "      <td>65</td>\n",
       "      <td>...</td>\n",
       "      <td>78</td>\n",
       "      <td>75</td>\n",
       "      <td>82</td>\n",
       "      <td>0</td>\n",
       "      <td>86</td>\n",
       "      <td>65</td>\n",
       "      <td>81</td>\n",
       "      <td>94</td>\n",
       "      <td>68</td>\n",
       "      <td>72</td>\n",
       "    </tr>\n",
       "    <tr>\n",
       "      <th>1</th>\n",
       "      <td>2021-01-02</td>\n",
       "      <td>63</td>\n",
       "      <td>1062</td>\n",
       "      <td>1045</td>\n",
       "      <td>89</td>\n",
       "      <td>0</td>\n",
       "      <td>935</td>\n",
       "      <td>0</td>\n",
       "      <td>2141</td>\n",
       "      <td>57</td>\n",
       "      <td>...</td>\n",
       "      <td>77</td>\n",
       "      <td>65</td>\n",
       "      <td>79</td>\n",
       "      <td>0</td>\n",
       "      <td>88</td>\n",
       "      <td>75</td>\n",
       "      <td>86</td>\n",
       "      <td>66</td>\n",
       "      <td>90</td>\n",
       "      <td>62</td>\n",
       "    </tr>\n",
       "    <tr>\n",
       "      <th>2</th>\n",
       "      <td>2021-01-03</td>\n",
       "      <td>69</td>\n",
       "      <td>981</td>\n",
       "      <td>997</td>\n",
       "      <td>88</td>\n",
       "      <td>0</td>\n",
       "      <td>1064</td>\n",
       "      <td>0</td>\n",
       "      <td>1922</td>\n",
       "      <td>67</td>\n",
       "      <td>...</td>\n",
       "      <td>68</td>\n",
       "      <td>63</td>\n",
       "      <td>95</td>\n",
       "      <td>0</td>\n",
       "      <td>82</td>\n",
       "      <td>66</td>\n",
       "      <td>83</td>\n",
       "      <td>88</td>\n",
       "      <td>111</td>\n",
       "      <td>66</td>\n",
       "    </tr>\n",
       "    <tr>\n",
       "      <th>3</th>\n",
       "      <td>2021-01-04</td>\n",
       "      <td>78</td>\n",
       "      <td>713</td>\n",
       "      <td>1063</td>\n",
       "      <td>85</td>\n",
       "      <td>0</td>\n",
       "      <td>1004</td>\n",
       "      <td>0</td>\n",
       "      <td>1708</td>\n",
       "      <td>66</td>\n",
       "      <td>...</td>\n",
       "      <td>72</td>\n",
       "      <td>71</td>\n",
       "      <td>80</td>\n",
       "      <td>0</td>\n",
       "      <td>86</td>\n",
       "      <td>65</td>\n",
       "      <td>83</td>\n",
       "      <td>91</td>\n",
       "      <td>60</td>\n",
       "      <td>68</td>\n",
       "    </tr>\n",
       "    <tr>\n",
       "      <th>4</th>\n",
       "      <td>2021-01-05</td>\n",
       "      <td>69</td>\n",
       "      <td>1104</td>\n",
       "      <td>834</td>\n",
       "      <td>85</td>\n",
       "      <td>0</td>\n",
       "      <td>909</td>\n",
       "      <td>0</td>\n",
       "      <td>1966</td>\n",
       "      <td>67</td>\n",
       "      <td>...</td>\n",
       "      <td>78</td>\n",
       "      <td>75</td>\n",
       "      <td>81</td>\n",
       "      <td>0</td>\n",
       "      <td>81</td>\n",
       "      <td>71</td>\n",
       "      <td>74</td>\n",
       "      <td>67</td>\n",
       "      <td>74</td>\n",
       "      <td>61</td>\n",
       "    </tr>\n",
       "  </tbody>\n",
       "</table>\n",
       "<p>5 rows × 46 columns</p>\n",
       "</div>"
      ],
      "text/plain": [
       "         Date  PFQ   DSA   EEC  HTF  XSB   EYS  AYD   RAN  CTH  ...  QZF  CNW  \\\n",
       "0  2021-01-01   77  1260  1006   98    0   881    0  1956   65  ...   78   75   \n",
       "1  2021-01-02   63  1062  1045   89    0   935    0  2141   57  ...   77   65   \n",
       "2  2021-01-03   69   981   997   88    0  1064    0  1922   67  ...   68   63   \n",
       "3  2021-01-04   78   713  1063   85    0  1004    0  1708   66  ...   72   71   \n",
       "4  2021-01-05   69  1104   834   85    0   909    0  1966   67  ...   78   75   \n",
       "\n",
       "   FZI  YMQ  NFH  NLT  IZX  LLK  IFI  HZQ  \n",
       "0   82    0   86   65   81   94   68   72  \n",
       "1   79    0   88   75   86   66   90   62  \n",
       "2   95    0   82   66   83   88  111   66  \n",
       "3   80    0   86   65   83   91   60   68  \n",
       "4   81    0   81   71   74   67   74   61  \n",
       "\n",
       "[5 rows x 46 columns]"
      ]
     },
     "execution_count": 4,
     "metadata": {},
     "output_type": "execute_result"
    }
   ],
   "source": [
    "# VIEW OF CUSTOMER DATA\n",
    "daily_customer_data.head(5)"
   ]
  },
  {
   "cell_type": "code",
   "execution_count": 5,
   "id": "8ad67184",
   "metadata": {},
   "outputs": [
    {
     "data": {
      "text/html": [
       "<div>\n",
       "<style scoped>\n",
       "    .dataframe tbody tr th:only-of-type {\n",
       "        vertical-align: middle;\n",
       "    }\n",
       "\n",
       "    .dataframe tbody tr th {\n",
       "        vertical-align: top;\n",
       "    }\n",
       "\n",
       "    .dataframe thead th {\n",
       "        text-align: right;\n",
       "    }\n",
       "</style>\n",
       "<table border=\"1\" class=\"dataframe\">\n",
       "  <thead>\n",
       "    <tr style=\"text-align: right;\">\n",
       "      <th></th>\n",
       "      <th>Id</th>\n",
       "      <th>Marketing (£)</th>\n",
       "    </tr>\n",
       "  </thead>\n",
       "  <tbody>\n",
       "    <tr>\n",
       "      <th>0</th>\n",
       "      <td>PFQ</td>\n",
       "      <td>3000</td>\n",
       "    </tr>\n",
       "    <tr>\n",
       "      <th>1</th>\n",
       "      <td>DSA</td>\n",
       "      <td>44000</td>\n",
       "    </tr>\n",
       "    <tr>\n",
       "      <th>2</th>\n",
       "      <td>EEC</td>\n",
       "      <td>31000</td>\n",
       "    </tr>\n",
       "    <tr>\n",
       "      <th>3</th>\n",
       "      <td>HTF</td>\n",
       "      <td>2000</td>\n",
       "    </tr>\n",
       "    <tr>\n",
       "      <th>4</th>\n",
       "      <td>XSB</td>\n",
       "      <td>2000</td>\n",
       "    </tr>\n",
       "  </tbody>\n",
       "</table>\n",
       "</div>"
      ],
      "text/plain": [
       "    Id  Marketing (£)\n",
       "0  PFQ           3000\n",
       "1  DSA          44000\n",
       "2  EEC          31000\n",
       "3  HTF           2000\n",
       "4  XSB           2000"
      ]
     },
     "execution_count": 5,
     "metadata": {},
     "output_type": "execute_result"
    }
   ],
   "source": [
    "# VIEW OF MARKETING DATA\n",
    "outletmarketing.head(5)"
   ]
  },
  {
   "cell_type": "code",
   "execution_count": 6,
   "id": "bc3ba022",
   "metadata": {},
   "outputs": [
    {
     "data": {
      "text/html": [
       "<div>\n",
       "<style scoped>\n",
       "    .dataframe tbody tr th:only-of-type {\n",
       "        vertical-align: middle;\n",
       "    }\n",
       "\n",
       "    .dataframe tbody tr th {\n",
       "        vertical-align: top;\n",
       "    }\n",
       "\n",
       "    .dataframe thead th {\n",
       "        text-align: right;\n",
       "    }\n",
       "</style>\n",
       "<table border=\"1\" class=\"dataframe\">\n",
       "  <thead>\n",
       "    <tr style=\"text-align: right;\">\n",
       "      <th></th>\n",
       "      <th>Id</th>\n",
       "      <th>Overheads (£)</th>\n",
       "    </tr>\n",
       "  </thead>\n",
       "  <tbody>\n",
       "    <tr>\n",
       "      <th>0</th>\n",
       "      <td>PFQ</td>\n",
       "      <td>31000</td>\n",
       "    </tr>\n",
       "    <tr>\n",
       "      <th>1</th>\n",
       "      <td>DSA</td>\n",
       "      <td>61000</td>\n",
       "    </tr>\n",
       "    <tr>\n",
       "      <th>2</th>\n",
       "      <td>EEC</td>\n",
       "      <td>67000</td>\n",
       "    </tr>\n",
       "    <tr>\n",
       "      <th>3</th>\n",
       "      <td>HTF</td>\n",
       "      <td>55000</td>\n",
       "    </tr>\n",
       "    <tr>\n",
       "      <th>4</th>\n",
       "      <td>XSB</td>\n",
       "      <td>76000</td>\n",
       "    </tr>\n",
       "  </tbody>\n",
       "</table>\n",
       "</div>"
      ],
      "text/plain": [
       "    Id  Overheads (£)\n",
       "0  PFQ          31000\n",
       "1  DSA          61000\n",
       "2  EEC          67000\n",
       "3  HTF          55000\n",
       "4  XSB          76000"
      ]
     },
     "execution_count": 6,
     "metadata": {},
     "output_type": "execute_result"
    }
   ],
   "source": [
    "# VIEW OF OVERHEAD DATA\n",
    "outletoverhead.head(5)"
   ]
  },
  {
   "cell_type": "code",
   "execution_count": 7,
   "id": "406d8cdb",
   "metadata": {},
   "outputs": [
    {
     "data": {
      "text/html": [
       "<div>\n",
       "<style scoped>\n",
       "    .dataframe tbody tr th:only-of-type {\n",
       "        vertical-align: middle;\n",
       "    }\n",
       "\n",
       "    .dataframe tbody tr th {\n",
       "        vertical-align: top;\n",
       "    }\n",
       "\n",
       "    .dataframe thead th {\n",
       "        text-align: right;\n",
       "    }\n",
       "</style>\n",
       "<table border=\"1\" class=\"dataframe\">\n",
       "  <thead>\n",
       "    <tr style=\"text-align: right;\">\n",
       "      <th></th>\n",
       "      <th>Id</th>\n",
       "      <th>Size (msq)</th>\n",
       "    </tr>\n",
       "  </thead>\n",
       "  <tbody>\n",
       "    <tr>\n",
       "      <th>0</th>\n",
       "      <td>PFQ</td>\n",
       "      <td>73</td>\n",
       "    </tr>\n",
       "    <tr>\n",
       "      <th>1</th>\n",
       "      <td>DSA</td>\n",
       "      <td>2703</td>\n",
       "    </tr>\n",
       "    <tr>\n",
       "      <th>2</th>\n",
       "      <td>EEC</td>\n",
       "      <td>1575</td>\n",
       "    </tr>\n",
       "    <tr>\n",
       "      <th>3</th>\n",
       "      <td>HTF</td>\n",
       "      <td>101</td>\n",
       "    </tr>\n",
       "    <tr>\n",
       "      <th>4</th>\n",
       "      <td>XSB</td>\n",
       "      <td>115</td>\n",
       "    </tr>\n",
       "  </tbody>\n",
       "</table>\n",
       "</div>"
      ],
      "text/plain": [
       "    Id  Size (msq)\n",
       "0  PFQ          73\n",
       "1  DSA        2703\n",
       "2  EEC        1575\n",
       "3  HTF         101\n",
       "4  XSB         115"
      ]
     },
     "execution_count": 7,
     "metadata": {},
     "output_type": "execute_result"
    }
   ],
   "source": [
    "# VIEW OF OUTLET SIZE DATA\n",
    "outletsize.head(5)"
   ]
  },
  {
   "cell_type": "code",
   "execution_count": 8,
   "id": "f8c1d03f",
   "metadata": {},
   "outputs": [
    {
     "data": {
      "text/html": [
       "<div>\n",
       "<style scoped>\n",
       "    .dataframe tbody tr th:only-of-type {\n",
       "        vertical-align: middle;\n",
       "    }\n",
       "\n",
       "    .dataframe tbody tr th {\n",
       "        vertical-align: top;\n",
       "    }\n",
       "\n",
       "    .dataframe thead th {\n",
       "        text-align: right;\n",
       "    }\n",
       "</style>\n",
       "<table border=\"1\" class=\"dataframe\">\n",
       "  <thead>\n",
       "    <tr style=\"text-align: right;\">\n",
       "      <th></th>\n",
       "      <th>Id</th>\n",
       "      <th>Staff</th>\n",
       "    </tr>\n",
       "  </thead>\n",
       "  <tbody>\n",
       "    <tr>\n",
       "      <th>0</th>\n",
       "      <td>PFQ</td>\n",
       "      <td>1</td>\n",
       "    </tr>\n",
       "    <tr>\n",
       "      <th>1</th>\n",
       "      <td>DSA</td>\n",
       "      <td>18</td>\n",
       "    </tr>\n",
       "    <tr>\n",
       "      <th>2</th>\n",
       "      <td>EEC</td>\n",
       "      <td>8</td>\n",
       "    </tr>\n",
       "    <tr>\n",
       "      <th>3</th>\n",
       "      <td>HTF</td>\n",
       "      <td>1</td>\n",
       "    </tr>\n",
       "    <tr>\n",
       "      <th>4</th>\n",
       "      <td>XSB</td>\n",
       "      <td>2</td>\n",
       "    </tr>\n",
       "  </tbody>\n",
       "</table>\n",
       "</div>"
      ],
      "text/plain": [
       "    Id  Staff\n",
       "0  PFQ      1\n",
       "1  DSA     18\n",
       "2  EEC      8\n",
       "3  HTF      1\n",
       "4  XSB      2"
      ]
     },
     "execution_count": 8,
     "metadata": {},
     "output_type": "execute_result"
    }
   ],
   "source": [
    "# VIEW OF OUTLET STAFF DATA\n",
    "outletstaff.head(5)"
   ]
  },
  {
   "cell_type": "code",
   "execution_count": 9,
   "id": "ebc68c23",
   "metadata": {},
   "outputs": [],
   "source": [
    "# CONCATENATE ALL OUTLET DATA INTO ONE\n",
    "summary_data = pd.concat([outletmarketing, outletoverhead['Overheads (£)'], outletsize['Size (msq)']\n",
    "                            ,outletstaff['Staff']], axis=1)\n"
   ]
  },
  {
   "cell_type": "markdown",
   "id": "b3a79352",
   "metadata": {},
   "source": [
    "#### VIEW OF BOTH DATA"
   ]
  },
  {
   "cell_type": "code",
   "execution_count": 10,
   "id": "416b9d2d",
   "metadata": {},
   "outputs": [
    {
     "data": {
      "text/html": [
       "<div>\n",
       "<style scoped>\n",
       "    .dataframe tbody tr th:only-of-type {\n",
       "        vertical-align: middle;\n",
       "    }\n",
       "\n",
       "    .dataframe tbody tr th {\n",
       "        vertical-align: top;\n",
       "    }\n",
       "\n",
       "    .dataframe thead th {\n",
       "        text-align: right;\n",
       "    }\n",
       "</style>\n",
       "<table border=\"1\" class=\"dataframe\">\n",
       "  <thead>\n",
       "    <tr style=\"text-align: right;\">\n",
       "      <th></th>\n",
       "      <th>Id</th>\n",
       "      <th>Marketing (£)</th>\n",
       "      <th>Overheads (£)</th>\n",
       "      <th>Size (msq)</th>\n",
       "      <th>Staff</th>\n",
       "    </tr>\n",
       "  </thead>\n",
       "  <tbody>\n",
       "    <tr>\n",
       "      <th>0</th>\n",
       "      <td>PFQ</td>\n",
       "      <td>3000</td>\n",
       "      <td>31000</td>\n",
       "      <td>73</td>\n",
       "      <td>1</td>\n",
       "    </tr>\n",
       "    <tr>\n",
       "      <th>1</th>\n",
       "      <td>DSA</td>\n",
       "      <td>44000</td>\n",
       "      <td>61000</td>\n",
       "      <td>2703</td>\n",
       "      <td>18</td>\n",
       "    </tr>\n",
       "    <tr>\n",
       "      <th>2</th>\n",
       "      <td>EEC</td>\n",
       "      <td>31000</td>\n",
       "      <td>67000</td>\n",
       "      <td>1575</td>\n",
       "      <td>8</td>\n",
       "    </tr>\n",
       "    <tr>\n",
       "      <th>3</th>\n",
       "      <td>HTF</td>\n",
       "      <td>2000</td>\n",
       "      <td>55000</td>\n",
       "      <td>101</td>\n",
       "      <td>1</td>\n",
       "    </tr>\n",
       "    <tr>\n",
       "      <th>4</th>\n",
       "      <td>XSB</td>\n",
       "      <td>2000</td>\n",
       "      <td>76000</td>\n",
       "      <td>115</td>\n",
       "      <td>2</td>\n",
       "    </tr>\n",
       "  </tbody>\n",
       "</table>\n",
       "</div>"
      ],
      "text/plain": [
       "    Id  Marketing (£)  Overheads (£)  Size (msq)  Staff\n",
       "0  PFQ           3000          31000          73      1\n",
       "1  DSA          44000          61000        2703     18\n",
       "2  EEC          31000          67000        1575      8\n",
       "3  HTF           2000          55000         101      1\n",
       "4  XSB           2000          76000         115      2"
      ]
     },
     "execution_count": 10,
     "metadata": {},
     "output_type": "execute_result"
    }
   ],
   "source": [
    "summary_data.head()"
   ]
  },
  {
   "cell_type": "markdown",
   "id": "14d08ad5",
   "metadata": {},
   "source": [
    "#### VISUALIZATION OF SUMMARY DATA"
   ]
  },
  {
   "cell_type": "code",
   "execution_count": 231,
   "id": "b1265e99",
   "metadata": {},
   "outputs": [
    {
     "data": {
      "image/png": "[encoded data removed]",
      "text/plain": [
       "<Figure size 600x600 with 20 Axes>"
      ]
     },
     "metadata": {},
     "output_type": "display_data"
    }
   ],
   "source": [
    "sns.pairplot(summary_data, diag_kind='kde',height=1.5)\n",
    "plt.show()"
   ]
  },
  {
   "cell_type": "code",
   "execution_count": 11,
   "id": "51d58f03",
   "metadata": {},
   "outputs": [
    {
     "data": {
      "text/html": [
       "<div>\n",
       "<style scoped>\n",
       "    .dataframe tbody tr th:only-of-type {\n",
       "        vertical-align: middle;\n",
       "    }\n",
       "\n",
       "    .dataframe tbody tr th {\n",
       "        vertical-align: top;\n",
       "    }\n",
       "\n",
       "    .dataframe thead th {\n",
       "        text-align: right;\n",
       "    }\n",
       "</style>\n",
       "<table border=\"1\" class=\"dataframe\">\n",
       "  <thead>\n",
       "    <tr style=\"text-align: right;\">\n",
       "      <th></th>\n",
       "      <th>Date</th>\n",
       "      <th>PFQ</th>\n",
       "      <th>DSA</th>\n",
       "      <th>EEC</th>\n",
       "      <th>HTF</th>\n",
       "      <th>XSB</th>\n",
       "      <th>EYS</th>\n",
       "      <th>AYD</th>\n",
       "      <th>RAN</th>\n",
       "      <th>CTH</th>\n",
       "      <th>...</th>\n",
       "      <th>QZF</th>\n",
       "      <th>CNW</th>\n",
       "      <th>FZI</th>\n",
       "      <th>YMQ</th>\n",
       "      <th>NFH</th>\n",
       "      <th>NLT</th>\n",
       "      <th>IZX</th>\n",
       "      <th>LLK</th>\n",
       "      <th>IFI</th>\n",
       "      <th>HZQ</th>\n",
       "    </tr>\n",
       "  </thead>\n",
       "  <tbody>\n",
       "    <tr>\n",
       "      <th>0</th>\n",
       "      <td>2021-01-01</td>\n",
       "      <td>77</td>\n",
       "      <td>1260</td>\n",
       "      <td>1006</td>\n",
       "      <td>98</td>\n",
       "      <td>0</td>\n",
       "      <td>881</td>\n",
       "      <td>0</td>\n",
       "      <td>1956</td>\n",
       "      <td>65</td>\n",
       "      <td>...</td>\n",
       "      <td>78</td>\n",
       "      <td>75</td>\n",
       "      <td>82</td>\n",
       "      <td>0</td>\n",
       "      <td>86</td>\n",
       "      <td>65</td>\n",
       "      <td>81</td>\n",
       "      <td>94</td>\n",
       "      <td>68</td>\n",
       "      <td>72</td>\n",
       "    </tr>\n",
       "    <tr>\n",
       "      <th>1</th>\n",
       "      <td>2021-01-02</td>\n",
       "      <td>63</td>\n",
       "      <td>1062</td>\n",
       "      <td>1045</td>\n",
       "      <td>89</td>\n",
       "      <td>0</td>\n",
       "      <td>935</td>\n",
       "      <td>0</td>\n",
       "      <td>2141</td>\n",
       "      <td>57</td>\n",
       "      <td>...</td>\n",
       "      <td>77</td>\n",
       "      <td>65</td>\n",
       "      <td>79</td>\n",
       "      <td>0</td>\n",
       "      <td>88</td>\n",
       "      <td>75</td>\n",
       "      <td>86</td>\n",
       "      <td>66</td>\n",
       "      <td>90</td>\n",
       "      <td>62</td>\n",
       "    </tr>\n",
       "    <tr>\n",
       "      <th>2</th>\n",
       "      <td>2021-01-03</td>\n",
       "      <td>69</td>\n",
       "      <td>981</td>\n",
       "      <td>997</td>\n",
       "      <td>88</td>\n",
       "      <td>0</td>\n",
       "      <td>1064</td>\n",
       "      <td>0</td>\n",
       "      <td>1922</td>\n",
       "      <td>67</td>\n",
       "      <td>...</td>\n",
       "      <td>68</td>\n",
       "      <td>63</td>\n",
       "      <td>95</td>\n",
       "      <td>0</td>\n",
       "      <td>82</td>\n",
       "      <td>66</td>\n",
       "      <td>83</td>\n",
       "      <td>88</td>\n",
       "      <td>111</td>\n",
       "      <td>66</td>\n",
       "    </tr>\n",
       "    <tr>\n",
       "      <th>3</th>\n",
       "      <td>2021-01-04</td>\n",
       "      <td>78</td>\n",
       "      <td>713</td>\n",
       "      <td>1063</td>\n",
       "      <td>85</td>\n",
       "      <td>0</td>\n",
       "      <td>1004</td>\n",
       "      <td>0</td>\n",
       "      <td>1708</td>\n",
       "      <td>66</td>\n",
       "      <td>...</td>\n",
       "      <td>72</td>\n",
       "      <td>71</td>\n",
       "      <td>80</td>\n",
       "      <td>0</td>\n",
       "      <td>86</td>\n",
       "      <td>65</td>\n",
       "      <td>83</td>\n",
       "      <td>91</td>\n",
       "      <td>60</td>\n",
       "      <td>68</td>\n",
       "    </tr>\n",
       "    <tr>\n",
       "      <th>4</th>\n",
       "      <td>2021-01-05</td>\n",
       "      <td>69</td>\n",
       "      <td>1104</td>\n",
       "      <td>834</td>\n",
       "      <td>85</td>\n",
       "      <td>0</td>\n",
       "      <td>909</td>\n",
       "      <td>0</td>\n",
       "      <td>1966</td>\n",
       "      <td>67</td>\n",
       "      <td>...</td>\n",
       "      <td>78</td>\n",
       "      <td>75</td>\n",
       "      <td>81</td>\n",
       "      <td>0</td>\n",
       "      <td>81</td>\n",
       "      <td>71</td>\n",
       "      <td>74</td>\n",
       "      <td>67</td>\n",
       "      <td>74</td>\n",
       "      <td>61</td>\n",
       "    </tr>\n",
       "  </tbody>\n",
       "</table>\n",
       "<p>5 rows × 46 columns</p>\n",
       "</div>"
      ],
      "text/plain": [
       "         Date  PFQ   DSA   EEC  HTF  XSB   EYS  AYD   RAN  CTH  ...  QZF  CNW  \\\n",
       "0  2021-01-01   77  1260  1006   98    0   881    0  1956   65  ...   78   75   \n",
       "1  2021-01-02   63  1062  1045   89    0   935    0  2141   57  ...   77   65   \n",
       "2  2021-01-03   69   981   997   88    0  1064    0  1922   67  ...   68   63   \n",
       "3  2021-01-04   78   713  1063   85    0  1004    0  1708   66  ...   72   71   \n",
       "4  2021-01-05   69  1104   834   85    0   909    0  1966   67  ...   78   75   \n",
       "\n",
       "   FZI  YMQ  NFH  NLT  IZX  LLK  IFI  HZQ  \n",
       "0   82    0   86   65   81   94   68   72  \n",
       "1   79    0   88   75   86   66   90   62  \n",
       "2   95    0   82   66   83   88  111   66  \n",
       "3   80    0   86   65   83   91   60   68  \n",
       "4   81    0   81   71   74   67   74   61  \n",
       "\n",
       "[5 rows x 46 columns]"
      ]
     },
     "execution_count": 11,
     "metadata": {},
     "output_type": "execute_result"
    }
   ],
   "source": [
    "daily_customer_data.head(5)"
   ]
  },
  {
   "cell_type": "markdown",
   "id": "5d62f3ec",
   "metadata": {},
   "source": [
    "### NUMBER OF OUTLETS"
   ]
  },
  {
   "cell_type": "code",
   "execution_count": 247,
   "id": "1dcac5da",
   "metadata": {},
   "outputs": [],
   "source": [
    "# GET NAMES OF ALL THE OUTLET\n",
    "total_outlets_names = summary_data['Id']\n",
    "total_outlets_names = list(total_outlets_names)\n",
    "# total_outlets_names"
   ]
  },
  {
   "cell_type": "code",
   "execution_count": 13,
   "id": "578b2a09",
   "metadata": {},
   "outputs": [],
   "source": [
    "# GET TOTAL NUMBER OF OUTLETS\n",
    "total_outlets = summary_data.shape[0]"
   ]
  },
  {
   "cell_type": "code",
   "execution_count": 14,
   "id": "7c2ea7c5",
   "metadata": {},
   "outputs": [
    {
     "data": {
      "text/plain": [
       "'Number of outlets: 45'"
      ]
     },
     "execution_count": 14,
     "metadata": {},
     "output_type": "execute_result"
    }
   ],
   "source": [
    "f\"Number of outlets: {total_outlets}\""
   ]
  },
  {
   "cell_type": "markdown",
   "id": "0cc531c5",
   "metadata": {},
   "source": [
    "### LIST OF OUTLETS"
   ]
  },
  {
   "cell_type": "code",
   "execution_count": 246,
   "id": "9e6af2bb",
   "metadata": {},
   "outputs": [
    {
     "data": {
      "text/plain": [
       "<AxesSubplot:xlabel='Size (msq)', ylabel='Outlets'>"
      ]
     },
     "execution_count": 246,
     "metadata": {},
     "output_type": "execute_result"
    },
    {
     "data": {
      "image/png": "[encoded data removed]",
      "text/plain": [
       "<Figure size 1000x1200 with 1 Axes>"
      ]
     },
     "metadata": {},
     "output_type": "display_data"
    }
   ],
   "source": [
    "plt.figure(figsize=(10,12))\n",
    "\n",
    "# SIZES OF ALL OUTLET\n",
    "size_list = list(summary_data['Size (msq)'])\n",
    "\n",
    "# SET PLOT X LABEL\n",
    "plt.xlabel('Size (msq)')\n",
    "\n",
    "# SET PLOT Y LABEL\n",
    "plt.ylabel('Outlets')\n",
    "\n",
    "# BAR PLOT SHOWING ALL OUTLETS WITH RESPECT TO SIZES\n",
    "sns.barplot(x=size_list, y=total_outlets_names)"
   ]
  },
  {
   "cell_type": "markdown",
   "id": "b3648142",
   "metadata": {},
   "source": [
    "## VISUALIZE NUMBER OF OUTLET WITH RESPECT TO SIZE"
   ]
  },
  {
   "cell_type": "raw",
   "id": "dfaf7cb2",
   "metadata": {},
   "source": [
    "    Due to number of outlets, we will divide our outlets into large, medium and small to allow for easier visualization\n",
    "To do that, we will get the max size value, min size value and median size value in other to create our range of values for the different outlet sizes"
   ]
  },
  {
   "cell_type": "markdown",
   "id": "df7ccd91",
   "metadata": {},
   "source": [
    "#### LARGEST STORE SIZE"
   ]
  },
  {
   "cell_type": "code",
   "execution_count": 124,
   "id": "d31d9184",
   "metadata": {},
   "outputs": [
    {
     "name": "stdout",
     "output_type": "stream",
     "text": [
      "Largest outlet size:  6757\n",
      "Largest outlet:  ['DMN']\n"
     ]
    }
   ],
   "source": [
    "size = summary_data['Size (msq)'].max()\n",
    "outlet = list(summary_data[summary_data['Size (msq)']==size]['Id'])\n",
    "print('Largest outlet size: ',size)\n",
    "print('Largest outlet: ',outlet)"
   ]
  },
  {
   "cell_type": "markdown",
   "id": "3caae200",
   "metadata": {},
   "source": [
    "#### SMALLEST STORE SIZE"
   ]
  },
  {
   "cell_type": "code",
   "execution_count": 125,
   "id": "d58f1a37",
   "metadata": {},
   "outputs": [
    {
     "name": "stdout",
     "output_type": "stream",
     "text": [
      "Smallest outlet size:  31\n",
      "Smallest outlet:  ['AGN']\n"
     ]
    }
   ],
   "source": [
    "size = summary_data['Size (msq)'].min()\n",
    "outlet = list(summary_data[summary_data['Size (msq)']==size]['Id'])\n",
    "print('Smallest outlet size: ',size)\n",
    "print('Smallest outlet: ',outlet)"
   ]
  },
  {
   "cell_type": "markdown",
   "id": "e0aad950",
   "metadata": {},
   "source": [
    "#### AVERAGE STORE SIZE"
   ]
  },
  {
   "cell_type": "code",
   "execution_count": 126,
   "id": "2e87c84a",
   "metadata": {},
   "outputs": [
    {
     "name": "stdout",
     "output_type": "stream",
     "text": [
      "Medium outlet size:  215.0\n",
      "Medium outlet:  ['PLB']\n"
     ]
    }
   ],
   "source": [
    "size = summary_data['Size (msq)'].median()\n",
    "outlet = list(summary_data[summary_data['Size (msq)']==size]['Id'])\n",
    "print('Medium outlet size: ',size)\n",
    "print('Medium outlet: ',outlet)"
   ]
  },
  {
   "cell_type": "raw",
   "id": "de14459a",
   "metadata": {},
   "source": [
    "From the above analysis, we can create a range of our outlets sizes and divide into LARGE, MEDIUM and SMALL\n",
    "\n",
    "large outlet will be outlet with size > 1000\n",
    "medium outlet will be outlet with size <1000 and >=200\n",
    "small outlet will be outlet with size < 200"
   ]
  },
  {
   "cell_type": "code",
   "execution_count": 127,
   "id": "d61211c4",
   "metadata": {},
   "outputs": [],
   "source": [
    "# Function to find duplicates\n",
    "def find_duplicates(list):\n",
    "    new = []\n",
    "    for i in list:\n",
    "        if list.count(i)>1:\n",
    "            new.append(i)\n",
    "    return new"
   ]
  },
  {
   "cell_type": "code",
   "execution_count": null,
   "id": "b7b48a61",
   "metadata": {},
   "outputs": [],
   "source": []
  },
  {
   "cell_type": "markdown",
   "id": "1c37601e",
   "metadata": {},
   "source": [
    "### LARGE OUTLET (Store size > 1000)"
   ]
  },
  {
   "cell_type": "code",
   "execution_count": 128,
   "id": "7447d13b",
   "metadata": {},
   "outputs": [
    {
     "data": {
      "text/plain": [
       "[2703, 1575, 3494, 5648, 4890, 1606, 6757, 1834, 1552, 3355]"
      ]
     },
     "execution_count": 128,
     "metadata": {},
     "output_type": "execute_result"
    }
   ],
   "source": [
    "# Getting the sizes of all large outlet stores\n",
    "large_outlet_list = list(summary_data[summary_data['Size (msq)'] > 1000]['Size (msq)'])\n",
    "large_outlet_list"
   ]
  },
  {
   "cell_type": "code",
   "execution_count": 129,
   "id": "0dcf1695",
   "metadata": {},
   "outputs": [
    {
     "data": {
      "text/plain": [
       "[]"
      ]
     },
     "execution_count": 129,
     "metadata": {},
     "output_type": "execute_result"
    }
   ],
   "source": [
    "# Search for duplicates to prevent repetition of data for different outlet with similar sizes\n",
    "duplicates = find_duplicates(large_outlet_list)\n",
    "duplicates"
   ]
  },
  {
   "cell_type": "raw",
   "id": "5d92642a",
   "metadata": {},
   "source": [
    "Since we have no duplicate, we move on to the next step"
   ]
  },
  {
   "cell_type": "code",
   "execution_count": 130,
   "id": "de7a4a31",
   "metadata": {},
   "outputs": [
    {
     "data": {
      "text/plain": [
       "'Number of Large Outlet: 10'"
      ]
     },
     "execution_count": 130,
     "metadata": {},
     "output_type": "execute_result"
    }
   ],
   "source": [
    "# Getting the names of all large outlet stores\n",
    "large_outlet_names = list(summary_data[summary_data['Size (msq)'] > 1000]['Id'])\n",
    "\n",
    "# Getting the number of large outlet\n",
    "num_large_outlets = len(large_outlet_names)\n",
    "\n",
    "f'Number of Large Outlet: {num_large_outlets}'"
   ]
  },
  {
   "cell_type": "markdown",
   "id": "c85e0283",
   "metadata": {},
   "source": [
    "### LARGE OUTLET"
   ]
  },
  {
   "cell_type": "code",
   "execution_count": 234,
   "id": "580370b4",
   "metadata": {},
   "outputs": [
    {
     "data": {
      "text/plain": [
       "<AxesSubplot:>"
      ]
     },
     "execution_count": 234,
     "metadata": {},
     "output_type": "execute_result"
    },
    {
     "data": {
      "image/png": "[encoded data removed]",
      "text/plain": [
       "<Figure size 1500x500 with 1 Axes>"
      ]
     },
     "metadata": {},
     "output_type": "display_data"
    }
   ],
   "source": [
    "# PLOT SHOWING ALL LARGE OUTLET WITH RESPECT TO SIZE\n",
    "\n",
    "plt.figure(figsize=(15,5))\n",
    "sns.barplot(x=large_outlet_names, y = large_outlet_list)"
   ]
  },
  {
   "cell_type": "code",
   "execution_count": null,
   "id": "3d66e86f",
   "metadata": {},
   "outputs": [],
   "source": []
  },
  {
   "cell_type": "code",
   "execution_count": null,
   "id": "be64fae3",
   "metadata": {},
   "outputs": [],
   "source": []
  },
  {
   "cell_type": "markdown",
   "id": "3837ee18",
   "metadata": {},
   "source": [
    "### MEDIUM OUTLET (Store size <1000 and >=200)"
   ]
  },
  {
   "cell_type": "code",
   "execution_count": 132,
   "id": "3e60cc6e",
   "metadata": {},
   "outputs": [
    {
     "data": {
      "text/plain": [
       "[217, 308, 238, 222, 344, 326, 215, 222, 207, 222, 243, 245, 248, 222]"
      ]
     },
     "execution_count": 132,
     "metadata": {},
     "output_type": "execute_result"
    }
   ],
   "source": [
    "# Getting the sizes of all medium outlet stores\n",
    "medium_outlet_list = []\n",
    "medium_initial = []\n",
    "for i in summary_data['Size (msq)']:\n",
    "    if i <1000 and i >=200:\n",
    "        medium_outlet_list.append(i)\n",
    "medium_outlet_list"
   ]
  },
  {
   "cell_type": "code",
   "execution_count": 133,
   "id": "240be3ee",
   "metadata": {},
   "outputs": [
    {
     "data": {
      "text/plain": [
       "[222, 222, 222, 222]"
      ]
     },
     "execution_count": 133,
     "metadata": {},
     "output_type": "execute_result"
    }
   ],
   "source": [
    "# Search for duplicates to prevent repetition of data for different outlet with similar sizes\n",
    "duplicates = find_duplicates(medium_outlet_list)\n",
    "duplicates"
   ]
  },
  {
   "cell_type": "code",
   "execution_count": 239,
   "id": "184a3a00",
   "metadata": {},
   "outputs": [],
   "source": [
    "# Get all medium outlet names\n",
    "medium_label = []\n",
    "for i in medium_outlet_list:\n",
    "    a = list(summary_data[summary_data['Size (msq)']==i]['Id'])\n",
    "    medium_label.append(a)\n",
    "# medium_label"
   ]
  },
  {
   "cell_type": "code",
   "execution_count": 238,
   "id": "62fa079f",
   "metadata": {},
   "outputs": [],
   "source": [
    "# Find duplicate names\n",
    "count = 0\n",
    "label_duplicate = []\n",
    "while count < len(duplicates):\n",
    "    value = list(summary_data[summary_data['Size (msq)']==duplicates[count]]['Id'])\n",
    "    count = count+1\n",
    "    label_duplicate.append(value)\n",
    "# label_duplicate"
   ]
  },
  {
   "cell_type": "code",
   "execution_count": 136,
   "id": "56e8be4a",
   "metadata": {},
   "outputs": [
    {
     "data": {
      "text/plain": [
       "[['DHJ', 'FTW', 'QZF', 'IFI']]"
      ]
     },
     "execution_count": 136,
     "metadata": {},
     "output_type": "execute_result"
    }
   ],
   "source": [
    "# Convert duplicate names to not contain more than one label\n",
    "duplicate_labels=[]\n",
    "for i in label_duplicate:\n",
    "    if i not in duplicate_labels:\n",
    "        duplicate_labels.append(i)\n",
    "duplicate_labels"
   ]
  },
  {
   "cell_type": "code",
   "execution_count": 137,
   "id": "64629fe3",
   "metadata": {},
   "outputs": [
    {
     "name": "stdout",
     "output_type": "stream",
     "text": [
      "[3, 7, 9, 13]\n"
     ]
    }
   ],
   "source": [
    "# Get duplicate indexes\n",
    "indices = [i for i, x in enumerate(medium_label) if x in duplicate_labels]\n",
    "print(indices)"
   ]
  },
  {
   "cell_type": "code",
   "execution_count": 236,
   "id": "afa40b53",
   "metadata": {},
   "outputs": [],
   "source": [
    "# Replace values at duplicate index with duplicate labels\n",
    "count=0\n",
    "for a in indices:\n",
    "    for value in duplicate_labels:\n",
    "        medium_label[indices[count]] = value[count]\n",
    "        count=count+1\n",
    "# medium_label"
   ]
  },
  {
   "cell_type": "code",
   "execution_count": 237,
   "id": "19f790c0",
   "metadata": {},
   "outputs": [],
   "source": [
    "# Convert the above nested list into a single list which contains the names of all medium outlet\n",
    "flattened_list = [item[0] if isinstance(item, list) else item for item in medium_label]\n",
    "# flattened_list"
   ]
  },
  {
   "cell_type": "code",
   "execution_count": 140,
   "id": "0104ed91",
   "metadata": {},
   "outputs": [
    {
     "data": {
      "text/plain": [
       "'Number of Medium Outlet: 14'"
      ]
     },
     "execution_count": 140,
     "metadata": {},
     "output_type": "execute_result"
    }
   ],
   "source": [
    "# Getting the names of all medium outlets\n",
    "medium_outlet_names = flattened_list\n",
    "\n",
    "# Getting the number of medium outlet\n",
    "num_medium_outlets = len(medium_outlet_names)\n",
    "\n",
    "f'Number of Medium Outlet: {num_medium_outlets}'"
   ]
  },
  {
   "cell_type": "markdown",
   "id": "42a69eed",
   "metadata": {},
   "source": [
    "### MEDIUM OUTLET"
   ]
  },
  {
   "cell_type": "code",
   "execution_count": 235,
   "id": "a3b66f06",
   "metadata": {},
   "outputs": [
    {
     "data": {
      "text/plain": [
       "<AxesSubplot:>"
      ]
     },
     "execution_count": 235,
     "metadata": {},
     "output_type": "execute_result"
    },
    {
     "data": {
      "image/png": "[encoded data removed]",
      "text/plain": [
       "<Figure size 1500x500 with 1 Axes>"
      ]
     },
     "metadata": {},
     "output_type": "display_data"
    }
   ],
   "source": [
    "# PLOT SHOWING ALL MEDIUM OUTLET WITH RESPECT TO SIZE\n",
    "\n",
    "plt.figure(figsize=(15,5))\n",
    "sns.barplot(x=medium_outlet_names, y=medium_outlet_list)"
   ]
  },
  {
   "cell_type": "code",
   "execution_count": null,
   "id": "896eab82",
   "metadata": {},
   "outputs": [],
   "source": []
  },
  {
   "cell_type": "code",
   "execution_count": null,
   "id": "e97cb28c",
   "metadata": {},
   "outputs": [],
   "source": []
  },
  {
   "cell_type": "markdown",
   "id": "c1d787f8",
   "metadata": {},
   "source": [
    "### SMALL OUTLET (Store size < 200)"
   ]
  },
  {
   "cell_type": "code",
   "execution_count": 240,
   "id": "6038c5fc",
   "metadata": {},
   "outputs": [],
   "source": [
    "# Getting the sizes of all small outlet stores\n",
    "small_outlet_list = list(summary_data[summary_data['Size (msq)'] < 200]['Size (msq)'])\n",
    "# small_outlet_list"
   ]
  },
  {
   "cell_type": "code",
   "execution_count": 143,
   "id": "c985b4f0",
   "metadata": {},
   "outputs": [
    {
     "data": {
      "text/plain": [
       "[]"
      ]
     },
     "execution_count": 143,
     "metadata": {},
     "output_type": "execute_result"
    }
   ],
   "source": [
    "# Search for duplicates\n",
    "duplicates = find_duplicates(small_outlet_list)\n",
    "duplicates"
   ]
  },
  {
   "cell_type": "raw",
   "id": "72a88818",
   "metadata": {},
   "source": [
    "Since we have no duplicate, we move on to the next step"
   ]
  },
  {
   "cell_type": "code",
   "execution_count": 144,
   "id": "fbce2955",
   "metadata": {},
   "outputs": [
    {
     "data": {
      "text/plain": [
       "'Number of Small Outlet: 21'"
      ]
     },
     "execution_count": 144,
     "metadata": {},
     "output_type": "execute_result"
    }
   ],
   "source": [
    "# Getting the names of all small outlet stores\n",
    "small_outlet_names = list(summary_data[summary_data['Size (msq)'] < 200]['Id'])\n",
    "\n",
    "# Getting the number of small outlet\n",
    "num_small_outlets = len(small_outlet_names)\n",
    "\n",
    "f'Number of Small Outlet: {num_small_outlets}'"
   ]
  },
  {
   "cell_type": "markdown",
   "id": "9a2add3f",
   "metadata": {},
   "source": [
    "### SMALL OUTLET"
   ]
  },
  {
   "cell_type": "code",
   "execution_count": 241,
   "id": "261d6023",
   "metadata": {},
   "outputs": [
    {
     "data": {
      "text/plain": [
       "<AxesSubplot:>"
      ]
     },
     "execution_count": 241,
     "metadata": {},
     "output_type": "execute_result"
    },
    {
     "data": {
      "image/png": "[encoded data removed]",
      "text/plain": [
       "<Figure size 1500x500 with 1 Axes>"
      ]
     },
     "metadata": {},
     "output_type": "display_data"
    }
   ],
   "source": [
    "# PLOT SHOWING ALL SMALL OUTLET WITH RESPECT TO SIZE\n",
    "\n",
    "plt.figure(figsize=(15,5))\n",
    "sns.barplot(x = small_outlet_names, y = small_outlet_list)"
   ]
  },
  {
   "cell_type": "code",
   "execution_count": null,
   "id": "bd5c6eab",
   "metadata": {},
   "outputs": [],
   "source": []
  },
  {
   "cell_type": "markdown",
   "id": "edf8db07",
   "metadata": {},
   "source": [
    "#### PERCENTAGE OF EACH OUTLET WITH RESPECT TO SIZE"
   ]
  },
  {
   "cell_type": "code",
   "execution_count": 146,
   "id": "99de1aba",
   "metadata": {},
   "outputs": [
    {
     "data": {
      "text/plain": [
       "46.666666666666664"
      ]
     },
     "execution_count": 146,
     "metadata": {},
     "output_type": "execute_result"
    }
   ],
   "source": [
    "percentage_of_small_outlets = (num_small_outlets / total_outlets)*100\n",
    "percentage_of_small_outlets"
   ]
  },
  {
   "cell_type": "code",
   "execution_count": 147,
   "id": "9bc59577",
   "metadata": {},
   "outputs": [
    {
     "data": {
      "text/plain": [
       "31.11111111111111"
      ]
     },
     "execution_count": 147,
     "metadata": {},
     "output_type": "execute_result"
    }
   ],
   "source": [
    "percentage_of_medium_outlets = (num_medium_outlets / total_outlets)*100\n",
    "percentage_of_medium_outlets"
   ]
  },
  {
   "cell_type": "code",
   "execution_count": 148,
   "id": "ea9ece14",
   "metadata": {},
   "outputs": [
    {
     "data": {
      "text/plain": [
       "22.22222222222222"
      ]
     },
     "execution_count": 148,
     "metadata": {},
     "output_type": "execute_result"
    }
   ],
   "source": [
    "percentage_of_large_outlets = (num_large_outlets / total_outlets)*100\n",
    "percentage_of_large_outlets"
   ]
  },
  {
   "cell_type": "code",
   "execution_count": 149,
   "id": "b403cd79",
   "metadata": {},
   "outputs": [],
   "source": [
    "# Storing all outlet sizes\n",
    "outlet_number = []\n",
    "outlet_number.extend([num_large_outlets,num_medium_outlets,num_small_outlets])"
   ]
  },
  {
   "cell_type": "code",
   "execution_count": 154,
   "id": "85af4599",
   "metadata": {},
   "outputs": [
    {
     "data": {
      "image/png": "[encoded data removed]",
      "text/plain": [
       "<Figure size 1400x700 with 1 Axes>"
      ]
     },
     "metadata": {},
     "output_type": "display_data"
    }
   ],
   "source": [
    "# PLOT SHOWING ALL OUTLET\n",
    "plt.figure(figsize=(14,7))\n",
    "\n",
    "outlet_size = ['large_outlet','medium_outlet','small_outlet']\n",
    "plt.pie(outlet_number,labels=outlet_size, autopct='%.2f%%');"
   ]
  },
  {
   "cell_type": "markdown",
   "id": "8547d770",
   "metadata": {},
   "source": [
    "### CONCLUSION"
   ]
  },
  {
   "cell_type": "raw",
   "id": "9241598d",
   "metadata": {},
   "source": [
    "- 46.67% of the entire outlets are small sized outlet\n",
    "- 31.11% of the entire outlets are medium sized outlet\n",
    "- 22.22% of the entire outlets are large sized outlet"
   ]
  },
  {
   "cell_type": "code",
   "execution_count": null,
   "id": "21336d74",
   "metadata": {},
   "outputs": [],
   "source": []
  },
  {
   "cell_type": "code",
   "execution_count": null,
   "id": "108391d8",
   "metadata": {},
   "outputs": [],
   "source": []
  },
  {
   "cell_type": "markdown",
   "id": "3d38fc75",
   "metadata": {},
   "source": [
    "### VISUALIZE EFFECTS OF OUTLET SIZE ON MARKETING"
   ]
  },
  {
   "cell_type": "raw",
   "id": "77a92389",
   "metadata": {},
   "source": [
    "Check effects of outlet size on outlet marketing"
   ]
  },
  {
   "cell_type": "markdown",
   "id": "9315dcea",
   "metadata": {},
   "source": [
    "#### PLOT SHOWING EFFECTS OF OUTLET SIZE ON MARKETING OF THE OUTLET\n"
   ]
  },
  {
   "cell_type": "code",
   "execution_count": 216,
   "id": "ec97b6bd",
   "metadata": {},
   "outputs": [
    {
     "data": {
      "text/plain": [
       "<AxesSubplot:xlabel='Size (msq)', ylabel='Marketing (£)'>"
      ]
     },
     "execution_count": 216,
     "metadata": {},
     "output_type": "execute_result"
    },
    {
     "data": {
      "image/png": "[encoded data removed]",
      "text/plain": [
       "<Figure size 2000x700 with 1 Axes>"
      ]
     },
     "metadata": {},
     "output_type": "display_data"
    }
   ],
   "source": [
    "plt.figure(figsize=(20,7))\n",
    "sns.lineplot(x = 'Size (msq)', y = 'Marketing (£)',data= summary_data)"
   ]
  },
  {
   "cell_type": "markdown",
   "id": "dedbc66a",
   "metadata": {},
   "source": [
    "### CONCLUSION"
   ]
  },
  {
   "cell_type": "raw",
   "id": "ac2002bb",
   "metadata": {},
   "source": [
    "- As seen above, larger outlet size have more marketing that smaller outlet size\n",
    "- Bigger outlet make more marketing than smaller outlet. therefore marketing is dependent on outlet size"
   ]
  },
  {
   "cell_type": "code",
   "execution_count": null,
   "id": "64738601",
   "metadata": {},
   "outputs": [],
   "source": []
  },
  {
   "cell_type": "code",
   "execution_count": null,
   "id": "1b404937",
   "metadata": {},
   "outputs": [],
   "source": []
  },
  {
   "cell_type": "markdown",
   "id": "818ee75b",
   "metadata": {},
   "source": [
    "### VISUALIZE TOP 10 OUTLET WITH THE MOST EXPENSES (OVERHEADS) AND ITS EFFECT ON THEIR MARKETING"
   ]
  },
  {
   "cell_type": "code",
   "execution_count": 182,
   "id": "e3af66f3",
   "metadata": {},
   "outputs": [],
   "source": [
    "# Sorting the Overheads column from in descending order\n",
    "outlet_overhead = summary_data.sort_values('Overheads (£)', ascending=False)"
   ]
  },
  {
   "cell_type": "code",
   "execution_count": 183,
   "id": "fe07778e",
   "metadata": {},
   "outputs": [],
   "source": [
    "# Creating a dataframe from the above sorting\n",
    "outlet_overhead = outlet_overhead[['Id','Overheads (£)','Marketing (£)']]"
   ]
  },
  {
   "cell_type": "code",
   "execution_count": 184,
   "id": "6927d2d3",
   "metadata": {},
   "outputs": [
    {
     "data": {
      "text/html": [
       "<div>\n",
       "<style scoped>\n",
       "    .dataframe tbody tr th:only-of-type {\n",
       "        vertical-align: middle;\n",
       "    }\n",
       "\n",
       "    .dataframe tbody tr th {\n",
       "        vertical-align: top;\n",
       "    }\n",
       "\n",
       "    .dataframe thead th {\n",
       "        text-align: right;\n",
       "    }\n",
       "</style>\n",
       "<table border=\"1\" class=\"dataframe\">\n",
       "  <thead>\n",
       "    <tr style=\"text-align: right;\">\n",
       "      <th></th>\n",
       "      <th>Id</th>\n",
       "      <th>Overheads (£)</th>\n",
       "      <th>Marketing (£)</th>\n",
       "    </tr>\n",
       "  </thead>\n",
       "  <tbody>\n",
       "    <tr>\n",
       "      <th>16</th>\n",
       "      <td>ZYT</td>\n",
       "      <td>99000</td>\n",
       "      <td>1000</td>\n",
       "    </tr>\n",
       "    <tr>\n",
       "      <th>44</th>\n",
       "      <td>HZQ</td>\n",
       "      <td>98000</td>\n",
       "      <td>3000</td>\n",
       "    </tr>\n",
       "    <tr>\n",
       "      <th>13</th>\n",
       "      <td>LTU</td>\n",
       "      <td>97000</td>\n",
       "      <td>3000</td>\n",
       "    </tr>\n",
       "    <tr>\n",
       "      <th>28</th>\n",
       "      <td>FTW</td>\n",
       "      <td>95000</td>\n",
       "      <td>3000</td>\n",
       "    </tr>\n",
       "    <tr>\n",
       "      <th>38</th>\n",
       "      <td>YMQ</td>\n",
       "      <td>92000</td>\n",
       "      <td>1000</td>\n",
       "    </tr>\n",
       "    <tr>\n",
       "      <th>26</th>\n",
       "      <td>OTL</td>\n",
       "      <td>90000</td>\n",
       "      <td>3000</td>\n",
       "    </tr>\n",
       "    <tr>\n",
       "      <th>21</th>\n",
       "      <td>BMF</td>\n",
       "      <td>88000</td>\n",
       "      <td>32000</td>\n",
       "    </tr>\n",
       "    <tr>\n",
       "      <th>6</th>\n",
       "      <td>AYD</td>\n",
       "      <td>81000</td>\n",
       "      <td>2000</td>\n",
       "    </tr>\n",
       "    <tr>\n",
       "      <th>4</th>\n",
       "      <td>XSB</td>\n",
       "      <td>76000</td>\n",
       "      <td>2000</td>\n",
       "    </tr>\n",
       "    <tr>\n",
       "      <th>18</th>\n",
       "      <td>MZO</td>\n",
       "      <td>76000</td>\n",
       "      <td>3000</td>\n",
       "    </tr>\n",
       "  </tbody>\n",
       "</table>\n",
       "</div>"
      ],
      "text/plain": [
       "     Id  Overheads (£)  Marketing (£)\n",
       "16  ZYT          99000           1000\n",
       "44  HZQ          98000           3000\n",
       "13  LTU          97000           3000\n",
       "28  FTW          95000           3000\n",
       "38  YMQ          92000           1000\n",
       "26  OTL          90000           3000\n",
       "21  BMF          88000          32000\n",
       "6   AYD          81000           2000\n",
       "4   XSB          76000           2000\n",
       "18  MZO          76000           3000"
      ]
     },
     "execution_count": 184,
     "metadata": {},
     "output_type": "execute_result"
    }
   ],
   "source": [
    "# View of dataframe\n",
    "outlet_final = outlet_overhead.head(10)\n",
    "outlet_final"
   ]
  },
  {
   "cell_type": "code",
   "execution_count": 214,
   "id": "7ac26f58",
   "metadata": {},
   "outputs": [
    {
     "data": {
      "text/plain": [
       "<seaborn.axisgrid.FacetGrid at 0x7feb18f25910>"
      ]
     },
     "execution_count": 214,
     "metadata": {},
     "output_type": "execute_result"
    },
    {
     "data": {
      "text/plain": [
       "<Figure size 1000x200 with 0 Axes>"
      ]
     },
     "metadata": {},
     "output_type": "display_data"
    },
    {
     "data": {
      "image/png": "[encoded data removed]",
      "text/plain": [
       "<Figure size 582.375x500 with 1 Axes>"
      ]
     },
     "metadata": {},
     "output_type": "display_data"
    }
   ],
   "source": [
    "# VISUALIZING TOP 10 OUTLETS WITH THE MOST EXPENSES WITH RESPECT TO MARKETING\n",
    "\n",
    "plt.figure(figsize=(10,2))\n",
    "sns.relplot(x = 'Overheads (£)', y = 'Marketing (£)', hue='Id', data=outlet_final)"
   ]
  },
  {
   "cell_type": "markdown",
   "id": "d05c0685",
   "metadata": {},
   "source": [
    "### VISUALIZE CORRELATION OF OUTLET DATA"
   ]
  },
  {
   "cell_type": "code",
   "execution_count": 195,
   "id": "2112fb7a",
   "metadata": {},
   "outputs": [
    {
     "data": {
      "text/plain": [
       "<AxesSubplot:>"
      ]
     },
     "execution_count": 195,
     "metadata": {},
     "output_type": "execute_result"
    },
    {
     "data": {
      "image/png": "[encoded data removed]",
      "text/plain": [
       "<Figure size 640x480 with 2 Axes>"
      ]
     },
     "metadata": {},
     "output_type": "display_data"
    }
   ],
   "source": [
    "# CORRELATION OF OUR OUTLET DATA (SUMMARY_DATA)\n",
    "\n",
    "sns.heatmap(summary_data.corr(), annot=True, yticklabels = True, cmap='Pastel1')"
   ]
  },
  {
   "cell_type": "markdown",
   "id": "990ed173",
   "metadata": {},
   "source": [
    "### CONCLUSION"
   ]
  },
  {
   "cell_type": "raw",
   "id": "849fd46c",
   "metadata": {},
   "source": [
    "1. Reletionship between marketing and size is strong i.e size of outlet has a very strong influence on maketing of that outlet\n",
    "\n",
    "2. Outlet which have high Expenses (Overheads) tend to have lower marketing based on the diagram, although it's not a proven fact.\n",
    "\n",
    "3. Size of outlet determines number of staff\n",
    "\n",
    "4. Expenses (Overheads) has no effect on any feature of the outlet.\n",
    "\n",
    "5. More staff leads to more marketing"
   ]
  },
  {
   "cell_type": "code",
   "execution_count": null,
   "id": "e2dab28b",
   "metadata": {},
   "outputs": [],
   "source": []
  },
  {
   "cell_type": "code",
   "execution_count": null,
   "id": "7764c0bc",
   "metadata": {},
   "outputs": [],
   "source": []
  },
  {
   "cell_type": "markdown",
   "id": "419ee955",
   "metadata": {},
   "source": [
    "### TOP 10 OUTLETS WITH THE MOST MARKETING"
   ]
  },
  {
   "cell_type": "code",
   "execution_count": 196,
   "id": "0582c89c",
   "metadata": {},
   "outputs": [
    {
     "data": {
      "text/html": [
       "<div>\n",
       "<style scoped>\n",
       "    .dataframe tbody tr th:only-of-type {\n",
       "        vertical-align: middle;\n",
       "    }\n",
       "\n",
       "    .dataframe tbody tr th {\n",
       "        vertical-align: top;\n",
       "    }\n",
       "\n",
       "    .dataframe thead th {\n",
       "        text-align: right;\n",
       "    }\n",
       "</style>\n",
       "<table border=\"1\" class=\"dataframe\">\n",
       "  <thead>\n",
       "    <tr style=\"text-align: right;\">\n",
       "      <th></th>\n",
       "      <th>Id</th>\n",
       "      <th>Marketing (£)</th>\n",
       "      <th>Overheads (£)</th>\n",
       "      <th>Size (msq)</th>\n",
       "      <th>Staff</th>\n",
       "    </tr>\n",
       "  </thead>\n",
       "  <tbody>\n",
       "    <tr>\n",
       "      <th>11</th>\n",
       "      <td>RFY</td>\n",
       "      <td>65000</td>\n",
       "      <td>45000</td>\n",
       "      <td>4890</td>\n",
       "      <td>45</td>\n",
       "    </tr>\n",
       "    <tr>\n",
       "      <th>7</th>\n",
       "      <td>RAN</td>\n",
       "      <td>59000</td>\n",
       "      <td>48000</td>\n",
       "      <td>5648</td>\n",
       "      <td>50</td>\n",
       "    </tr>\n",
       "    <tr>\n",
       "      <th>15</th>\n",
       "      <td>DMN</td>\n",
       "      <td>58000</td>\n",
       "      <td>73000</td>\n",
       "      <td>6757</td>\n",
       "      <td>58</td>\n",
       "    </tr>\n",
       "    <tr>\n",
       "      <th>1</th>\n",
       "      <td>DSA</td>\n",
       "      <td>44000</td>\n",
       "      <td>61000</td>\n",
       "      <td>2703</td>\n",
       "      <td>18</td>\n",
       "    </tr>\n",
       "    <tr>\n",
       "      <th>5</th>\n",
       "      <td>EYS</td>\n",
       "      <td>33000</td>\n",
       "      <td>60000</td>\n",
       "      <td>3494</td>\n",
       "      <td>29</td>\n",
       "    </tr>\n",
       "    <tr>\n",
       "      <th>21</th>\n",
       "      <td>BMF</td>\n",
       "      <td>32000</td>\n",
       "      <td>88000</td>\n",
       "      <td>3355</td>\n",
       "      <td>30</td>\n",
       "    </tr>\n",
       "    <tr>\n",
       "      <th>2</th>\n",
       "      <td>EEC</td>\n",
       "      <td>31000</td>\n",
       "      <td>67000</td>\n",
       "      <td>1575</td>\n",
       "      <td>8</td>\n",
       "    </tr>\n",
       "    <tr>\n",
       "      <th>20</th>\n",
       "      <td>CGV</td>\n",
       "      <td>31000</td>\n",
       "      <td>38000</td>\n",
       "      <td>1552</td>\n",
       "      <td>11</td>\n",
       "    </tr>\n",
       "    <tr>\n",
       "      <th>14</th>\n",
       "      <td>BSQ</td>\n",
       "      <td>27000</td>\n",
       "      <td>16000</td>\n",
       "      <td>1606</td>\n",
       "      <td>14</td>\n",
       "    </tr>\n",
       "    <tr>\n",
       "      <th>19</th>\n",
       "      <td>CYK</td>\n",
       "      <td>26000</td>\n",
       "      <td>75000</td>\n",
       "      <td>1834</td>\n",
       "      <td>18</td>\n",
       "    </tr>\n",
       "  </tbody>\n",
       "</table>\n",
       "</div>"
      ],
      "text/plain": [
       "     Id  Marketing (£)  Overheads (£)  Size (msq)  Staff\n",
       "11  RFY          65000          45000        4890     45\n",
       "7   RAN          59000          48000        5648     50\n",
       "15  DMN          58000          73000        6757     58\n",
       "1   DSA          44000          61000        2703     18\n",
       "5   EYS          33000          60000        3494     29\n",
       "21  BMF          32000          88000        3355     30\n",
       "2   EEC          31000          67000        1575      8\n",
       "20  CGV          31000          38000        1552     11\n",
       "14  BSQ          27000          16000        1606     14\n",
       "19  CYK          26000          75000        1834     18"
      ]
     },
     "execution_count": 196,
     "metadata": {},
     "output_type": "execute_result"
    }
   ],
   "source": [
    "# SORTING MARKETING COLUMN IN DESCENDING ORDER AND GETTING THE FIRST 10 ROWS\n",
    "\n",
    "a = summary_data.sort_values(by='Marketing (£)',ascending=False).head(10)\n",
    "a"
   ]
  },
  {
   "cell_type": "code",
   "execution_count": 197,
   "id": "85e33710",
   "metadata": {},
   "outputs": [],
   "source": [
    "# SAVING OUTLET NAME INFO AND MARKETING INFO IN A VARIABLE BASED ON THE ABOVE DATA\n",
    "\n",
    "top_outlet_label = a['Id']\n",
    "top_outlet_mark = a['Marketing (£)']"
   ]
  },
  {
   "cell_type": "code",
   "execution_count": 211,
   "id": "d13af81e",
   "metadata": {},
   "outputs": [
    {
     "data": {
      "text/plain": [
       "<AxesSubplot:xlabel='Id', ylabel='Marketing (£)'>"
      ]
     },
     "execution_count": 211,
     "metadata": {},
     "output_type": "execute_result"
    },
    {
     "data": {
      "image/png": "[encoded data removed]",
      "text/plain": [
       "<Figure size 1500x500 with 1 Axes>"
      ]
     },
     "metadata": {},
     "output_type": "display_data"
    }
   ],
   "source": [
    "# VISUALIZING TOP 10 OUTLET WITH THE MOST MARKETING\n",
    "\n",
    "plt.figure(figsize=(15,5))\n",
    "sns.barplot(x = top_outlet_label, y = top_outlet_mark)"
   ]
  },
  {
   "cell_type": "markdown",
   "id": "9a43cd60",
   "metadata": {},
   "source": [
    "### CONCLUSION"
   ]
  },
  {
   "cell_type": "raw",
   "id": "4658ff9a",
   "metadata": {},
   "source": [
    "- Outlet with the most marketing all fall in the large outlet category\n",
    "- Number of staff does not really influence marketing of an outlet"
   ]
  },
  {
   "cell_type": "code",
   "execution_count": null,
   "id": "27464416",
   "metadata": {},
   "outputs": [],
   "source": []
  },
  {
   "cell_type": "markdown",
   "id": "d1a17b98",
   "metadata": {},
   "source": [
    "###  TOP 10 OUTLETS WITH THE LEAST MARKETING"
   ]
  },
  {
   "cell_type": "code",
   "execution_count": 79,
   "id": "0f249f2c",
   "metadata": {},
   "outputs": [
    {
     "data": {
      "text/html": [
       "<div>\n",
       "<style scoped>\n",
       "    .dataframe tbody tr th:only-of-type {\n",
       "        vertical-align: middle;\n",
       "    }\n",
       "\n",
       "    .dataframe tbody tr th {\n",
       "        vertical-align: top;\n",
       "    }\n",
       "\n",
       "    .dataframe thead th {\n",
       "        text-align: right;\n",
       "    }\n",
       "</style>\n",
       "<table border=\"1\" class=\"dataframe\">\n",
       "  <thead>\n",
       "    <tr style=\"text-align: right;\">\n",
       "      <th></th>\n",
       "      <th>Id</th>\n",
       "      <th>Marketing (£)</th>\n",
       "      <th>Overheads (£)</th>\n",
       "      <th>Size (msq)</th>\n",
       "      <th>Staff</th>\n",
       "    </tr>\n",
       "  </thead>\n",
       "  <tbody>\n",
       "    <tr>\n",
       "      <th>6</th>\n",
       "      <td>AYD</td>\n",
       "      <td>2000</td>\n",
       "      <td>81000</td>\n",
       "      <td>129</td>\n",
       "      <td>2</td>\n",
       "    </tr>\n",
       "    <tr>\n",
       "      <th>41</th>\n",
       "      <td>IZX</td>\n",
       "      <td>2000</td>\n",
       "      <td>32000</td>\n",
       "      <td>54</td>\n",
       "      <td>1</td>\n",
       "    </tr>\n",
       "    <tr>\n",
       "      <th>4</th>\n",
       "      <td>XSB</td>\n",
       "      <td>2000</td>\n",
       "      <td>76000</td>\n",
       "      <td>115</td>\n",
       "      <td>2</td>\n",
       "    </tr>\n",
       "    <tr>\n",
       "      <th>3</th>\n",
       "      <td>HTF</td>\n",
       "      <td>2000</td>\n",
       "      <td>55000</td>\n",
       "      <td>101</td>\n",
       "      <td>1</td>\n",
       "    </tr>\n",
       "    <tr>\n",
       "      <th>22</th>\n",
       "      <td>HNV</td>\n",
       "      <td>2000</td>\n",
       "      <td>69000</td>\n",
       "      <td>153</td>\n",
       "      <td>1</td>\n",
       "    </tr>\n",
       "    <tr>\n",
       "      <th>32</th>\n",
       "      <td>ZMY</td>\n",
       "      <td>1000</td>\n",
       "      <td>57000</td>\n",
       "      <td>42</td>\n",
       "      <td>1</td>\n",
       "    </tr>\n",
       "    <tr>\n",
       "      <th>34</th>\n",
       "      <td>ZSJ</td>\n",
       "      <td>1000</td>\n",
       "      <td>46000</td>\n",
       "      <td>87</td>\n",
       "      <td>1</td>\n",
       "    </tr>\n",
       "    <tr>\n",
       "      <th>16</th>\n",
       "      <td>ZYT</td>\n",
       "      <td>1000</td>\n",
       "      <td>99000</td>\n",
       "      <td>35</td>\n",
       "      <td>1</td>\n",
       "    </tr>\n",
       "    <tr>\n",
       "      <th>29</th>\n",
       "      <td>AGN</td>\n",
       "      <td>1000</td>\n",
       "      <td>18000</td>\n",
       "      <td>31</td>\n",
       "      <td>1</td>\n",
       "    </tr>\n",
       "    <tr>\n",
       "      <th>38</th>\n",
       "      <td>YMQ</td>\n",
       "      <td>1000</td>\n",
       "      <td>92000</td>\n",
       "      <td>57</td>\n",
       "      <td>1</td>\n",
       "    </tr>\n",
       "  </tbody>\n",
       "</table>\n",
       "</div>"
      ],
      "text/plain": [
       "     Id  Marketing (£)  Overheads (£)  Size (msq)  Staff\n",
       "6   AYD           2000          81000         129      2\n",
       "41  IZX           2000          32000          54      1\n",
       "4   XSB           2000          76000         115      2\n",
       "3   HTF           2000          55000         101      1\n",
       "22  HNV           2000          69000         153      1\n",
       "32  ZMY           1000          57000          42      1\n",
       "34  ZSJ           1000          46000          87      1\n",
       "16  ZYT           1000          99000          35      1\n",
       "29  AGN           1000          18000          31      1\n",
       "38  YMQ           1000          92000          57      1"
      ]
     },
     "execution_count": 79,
     "metadata": {},
     "output_type": "execute_result"
    }
   ],
   "source": [
    "# SORTING MARKETING COLUMN IN DESCENDING ORDER AND GETTING THE LAST 10 ROWS\n",
    "\n",
    "b = summary_data.sort_values(by='Marketing (£)',ascending=False).tail(10)\n",
    "b"
   ]
  },
  {
   "cell_type": "code",
   "execution_count": 80,
   "id": "0d818e24",
   "metadata": {},
   "outputs": [],
   "source": [
    "# SAVING OUTLET NAME INFO AND MARKETING INFO IN A VARIABLE BASED ON THE ABOVE DATA\n",
    "\n",
    "least_outlet_label = b['Id']\n",
    "least_outlet_mark = b['Marketing (£)']"
   ]
  },
  {
   "cell_type": "code",
   "execution_count": 212,
   "id": "0e804d26",
   "metadata": {
    "scrolled": false
   },
   "outputs": [
    {
     "data": {
      "text/plain": [
       "<AxesSubplot:xlabel='Id', ylabel='Marketing (£)'>"
      ]
     },
     "execution_count": 212,
     "metadata": {},
     "output_type": "execute_result"
    },
    {
     "data": {
      "image/png": "[encoded data removed]",
      "text/plain": [
       "<Figure size 1500x500 with 1 Axes>"
      ]
     },
     "metadata": {},
     "output_type": "display_data"
    }
   ],
   "source": [
    "# VISUALIZING TOP 10 OUTLET WITH THE LEAST MARKETING\n",
    "\n",
    "plt.figure(figsize=(15,5))\n",
    "sns.barplot(x = least_outlet_label, y = least_outlet_mark)"
   ]
  },
  {
   "cell_type": "markdown",
   "id": "fed25694",
   "metadata": {},
   "source": [
    "### CONCLUSION"
   ]
  },
  {
   "cell_type": "raw",
   "id": "18a8ff8e",
   "metadata": {},
   "source": [
    "- Outlet with the least marketing all fall in the small outlet category"
   ]
  },
  {
   "cell_type": "code",
   "execution_count": null,
   "id": "e75a7ee8",
   "metadata": {},
   "outputs": [],
   "source": []
  },
  {
   "cell_type": "markdown",
   "id": "f04eb1b2",
   "metadata": {},
   "source": [
    "### SEASONAL BEHAVIOUR"
   ]
  },
  {
   "cell_type": "code",
   "execution_count": 87,
   "id": "5e295f11",
   "metadata": {},
   "outputs": [],
   "source": [
    "# EFFECTS OF CHANGES IN SEASON ON CUSTOMER VISIT TO OUTLETS\n",
    "# Creating an instance of original dataframe to prevent editing\n",
    "new_data = daily_customer_data"
   ]
  },
  {
   "cell_type": "code",
   "execution_count": 88,
   "id": "42e22c83",
   "metadata": {},
   "outputs": [],
   "source": [
    "# Creating a new column in the newly created dataframe to store all the months given in our data\n",
    "new_data['Month'] = ''"
   ]
  },
  {
   "cell_type": "code",
   "execution_count": 96,
   "id": "5f41281e",
   "metadata": {},
   "outputs": [],
   "source": [
    "# List of all the days of customer visit to each outlet\n",
    "day = []\n",
    "for i in daily_customer_data['Date']:\n",
    "    result = int(i[8]+i[9])\n",
    "    day.append(result)\n",
    "day = list(range(0, len(day)))"
   ]
  },
  {
   "cell_type": "code",
   "execution_count": 97,
   "id": "2797054e",
   "metadata": {},
   "outputs": [],
   "source": [
    "# Filling up the month column we created earlier\n",
    "for i in day:\n",
    "    row = new_data['Date'][i]\n",
    "    month = row[5]+row[6]\n",
    "    if month == '01':\n",
    "        new_data['Month'][i] = 'January'\n",
    "    elif month == '02':\n",
    "        new_data['Month'][i] = 'February'\n",
    "    elif month == '03':\n",
    "        new_data['Month'][i] = 'March'\n",
    "    elif month == '04':\n",
    "        new_data['Month'][i] = 'April'\n",
    "    elif month == '05':\n",
    "        new_data['Month'][i] = 'May'\n",
    "    elif month == '06':\n",
    "        new_data['Month'][i] = 'June'\n",
    "    elif month == '07':\n",
    "        new_data['Month'][i] = 'July'\n",
    "    elif month == '08':\n",
    "        new_data['Month'][i] = 'August'\n",
    "    elif month == '09':\n",
    "        new_data['Month'][i] = 'September'\n",
    "    elif month == '10':\n",
    "        new_data['Month'][i] = 'October'\n",
    "    elif month == '11':\n",
    "        new_data['Month'][i] = 'November'\n",
    "    elif month =='12':\n",
    "        new_data['Month'][i] = 'December'"
   ]
  },
  {
   "cell_type": "code",
   "execution_count": 248,
   "id": "40d76cf8",
   "metadata": {},
   "outputs": [],
   "source": [
    "# Generating a list of all the possible months\n",
    "new = list(new_data['Month'])\n",
    "months = []\n",
    "for i in new:\n",
    "    if i not in months:\n",
    "        months.append(i)\n",
    "# months"
   ]
  },
  {
   "cell_type": "markdown",
   "id": "08212557",
   "metadata": {},
   "source": [
    "#### CUSTOMER VISIT PER MONTH"
   ]
  },
  {
   "cell_type": "code",
   "execution_count": 99,
   "id": "0eea7eff",
   "metadata": {},
   "outputs": [
    {
     "data": {
      "text/html": [
       "<div>\n",
       "<style scoped>\n",
       "    .dataframe tbody tr th:only-of-type {\n",
       "        vertical-align: middle;\n",
       "    }\n",
       "\n",
       "    .dataframe tbody tr th {\n",
       "        vertical-align: top;\n",
       "    }\n",
       "\n",
       "    .dataframe thead th {\n",
       "        text-align: right;\n",
       "    }\n",
       "</style>\n",
       "<table border=\"1\" class=\"dataframe\">\n",
       "  <thead>\n",
       "    <tr style=\"text-align: right;\">\n",
       "      <th></th>\n",
       "      <th>Date</th>\n",
       "      <th>PFQ</th>\n",
       "      <th>DSA</th>\n",
       "      <th>EEC</th>\n",
       "      <th>HTF</th>\n",
       "      <th>XSB</th>\n",
       "      <th>EYS</th>\n",
       "      <th>AYD</th>\n",
       "      <th>RAN</th>\n",
       "      <th>CTH</th>\n",
       "      <th>...</th>\n",
       "      <th>CNW</th>\n",
       "      <th>FZI</th>\n",
       "      <th>YMQ</th>\n",
       "      <th>NFH</th>\n",
       "      <th>NLT</th>\n",
       "      <th>IZX</th>\n",
       "      <th>LLK</th>\n",
       "      <th>IFI</th>\n",
       "      <th>HZQ</th>\n",
       "      <th>Month</th>\n",
       "    </tr>\n",
       "  </thead>\n",
       "  <tbody>\n",
       "    <tr>\n",
       "      <th>0</th>\n",
       "      <td>2021-01-01</td>\n",
       "      <td>77</td>\n",
       "      <td>1260</td>\n",
       "      <td>1006</td>\n",
       "      <td>98</td>\n",
       "      <td>0</td>\n",
       "      <td>881</td>\n",
       "      <td>0</td>\n",
       "      <td>1956</td>\n",
       "      <td>65</td>\n",
       "      <td>...</td>\n",
       "      <td>75</td>\n",
       "      <td>82</td>\n",
       "      <td>0</td>\n",
       "      <td>86</td>\n",
       "      <td>65</td>\n",
       "      <td>81</td>\n",
       "      <td>94</td>\n",
       "      <td>68</td>\n",
       "      <td>72</td>\n",
       "      <td>January</td>\n",
       "    </tr>\n",
       "    <tr>\n",
       "      <th>1</th>\n",
       "      <td>2021-01-02</td>\n",
       "      <td>63</td>\n",
       "      <td>1062</td>\n",
       "      <td>1045</td>\n",
       "      <td>89</td>\n",
       "      <td>0</td>\n",
       "      <td>935</td>\n",
       "      <td>0</td>\n",
       "      <td>2141</td>\n",
       "      <td>57</td>\n",
       "      <td>...</td>\n",
       "      <td>65</td>\n",
       "      <td>79</td>\n",
       "      <td>0</td>\n",
       "      <td>88</td>\n",
       "      <td>75</td>\n",
       "      <td>86</td>\n",
       "      <td>66</td>\n",
       "      <td>90</td>\n",
       "      <td>62</td>\n",
       "      <td>January</td>\n",
       "    </tr>\n",
       "  </tbody>\n",
       "</table>\n",
       "<p>2 rows × 47 columns</p>\n",
       "</div>"
      ],
      "text/plain": [
       "         Date  PFQ   DSA   EEC  HTF  XSB  EYS  AYD   RAN  CTH  ...  CNW  FZI  \\\n",
       "0  2021-01-01   77  1260  1006   98    0  881    0  1956   65  ...   75   82   \n",
       "1  2021-01-02   63  1062  1045   89    0  935    0  2141   57  ...   65   79   \n",
       "\n",
       "   YMQ  NFH  NLT  IZX  LLK  IFI  HZQ    Month  \n",
       "0    0   86   65   81   94   68   72  January  \n",
       "1    0   88   75   86   66   90   62  January  \n",
       "\n",
       "[2 rows x 47 columns]"
      ]
     },
     "execution_count": 99,
     "metadata": {},
     "output_type": "execute_result"
    }
   ],
   "source": [
    "new_data.head(2)"
   ]
  },
  {
   "cell_type": "code",
   "execution_count": 100,
   "id": "39204c71",
   "metadata": {},
   "outputs": [],
   "source": [
    "# Function that takes in a month and calculates the number of customer visits in that month\n",
    "def count_visit(a):\n",
    "    month = new_data[new_data['Month']==a]\n",
    "    count = 0\n",
    "    for i in total_outlets_name:\n",
    "        result = int(month[i].sum())\n",
    "        count = count+result\n",
    "    return count"
   ]
  },
  {
   "cell_type": "code",
   "execution_count": 104,
   "id": "ef2c04c6",
   "metadata": {},
   "outputs": [],
   "source": [
    "# Counting the total number of customer visits for each month and saving in a list\n",
    "customer_visit_count = []\n",
    "for i in months:\n",
    "    result = count_visit(i)\n",
    "    customer_visit_count.append(result)"
   ]
  },
  {
   "cell_type": "code",
   "execution_count": 105,
   "id": "a9674aea",
   "metadata": {},
   "outputs": [
    {
     "data": {
      "text/plain": [
       "<AxesSubplot:>"
      ]
     },
     "execution_count": 105,
     "metadata": {},
     "output_type": "execute_result"
    },
    {
     "data": {
      "image/png": "[encoded data removed]",
      "text/plain": [
       "<Figure size 1500x500 with 1 Axes>"
      ]
     },
     "metadata": {},
     "output_type": "display_data"
    }
   ],
   "source": [
    "# VISUALIZING THE CHANGE IN CUSTOMER VISITS TO ALL OUTLETS PER MONTH THROUGH OUT THE YEAR \n",
    "\n",
    "plt.figure(figsize=(15,5))\n",
    "sns.pointplot(x=months, y=customer_visit_count)"
   ]
  },
  {
   "cell_type": "markdown",
   "id": "20a3042d",
   "metadata": {},
   "source": [
    "### CONCLUSION"
   ]
  },
  {
   "cell_type": "raw",
   "id": "1e39c3b0",
   "metadata": {},
   "source": [
    "From the overall visualization of change in customer visits to outlet the following insights were gotten;\n",
    "\n",
    "1. Customer visits peeks in early January then drops rapidly in late January and early February\n",
    "2. Customer visits rises gradually in mid to late February and early March. This rise doesn't reach that of January\n",
    "3. It begins to drop slightly in March, April then gradually peeks in May.\n",
    "4. Outlet experience a drop in customer visits starting from mid to late May and finally drops in June.\n",
    "5. Maintains an unstable rise in mid June to early July as it drops slightly in August.\n",
    "6. Gradually drops till mid September, where it begins to peek gradually until early October.\n",
    "7. Visits gradually slopes down in October, November\n",
    "8. It begins to peek in mid November.\n",
    "9. In late November to early December it peeks "
   ]
  },
  {
   "cell_type": "markdown",
   "id": "f1457dd3",
   "metadata": {},
   "source": [
    "From the above insights, we can come to the conclusion that customer visits;\n",
    "- Peeks in december, march, mid-may, mid-july, mid-october\n",
    "- Drops in mid-january, february, slightly in mid-april, mid-june, september and november"
   ]
  },
  {
   "cell_type": "code",
   "execution_count": null,
   "id": "5bd25cf3",
   "metadata": {},
   "outputs": [],
   "source": []
  },
  {
   "cell_type": "markdown",
   "id": "9025e196",
   "metadata": {},
   "source": [
    "#### EFFECTS OF CUSTOMER VISITS ON OUTLET MARKETING"
   ]
  },
  {
   "cell_type": "code",
   "execution_count": null,
   "id": "4c03a873",
   "metadata": {},
   "outputs": [],
   "source": [
    "daily_customer_data.head()    "
   ]
  },
  {
   "cell_type": "raw",
   "id": "fa7b2829",
   "metadata": {},
   "source": [
    "Divide data into all the months of the year"
   ]
  },
  {
   "cell_type": "raw",
   "id": "c2f10aab",
   "metadata": {},
   "source": [
    "- Get the number of days"
   ]
  },
  {
   "cell_type": "code",
   "execution_count": null,
   "id": "c3194027",
   "metadata": {},
   "outputs": [],
   "source": [
    "daily_customer_data.shape[0]"
   ]
  },
  {
   "cell_type": "raw",
   "id": "f9dd6b2b",
   "metadata": {},
   "source": [
    "Create an instance of our dataframe to avoid editing the original dataframe"
   ]
  },
  {
   "cell_type": "code",
   "execution_count": null,
   "id": "8b2a1457",
   "metadata": {},
   "outputs": [],
   "source": []
  },
  {
   "cell_type": "code",
   "execution_count": null,
   "id": "3e35be7e",
   "metadata": {},
   "outputs": [],
   "source": []
  },
  {
   "cell_type": "raw",
   "id": "ab144cd6",
   "metadata": {},
   "source": [
    "-As seen above, we have 365 entries meaning 365 days (a year)\n",
    "- Let's group our data into the different months and days"
   ]
  },
  {
   "cell_type": "code",
   "execution_count": null,
   "id": "c69bde42",
   "metadata": {},
   "outputs": [],
   "source": []
  },
  {
   "cell_type": "code",
   "execution_count": null,
   "id": "dc60ab72",
   "metadata": {},
   "outputs": [],
   "source": []
  },
  {
   "cell_type": "code",
   "execution_count": null,
   "id": "6a50305f",
   "metadata": {},
   "outputs": [],
   "source": [
    "new_data.head()"
   ]
  },
  {
   "cell_type": "code",
   "execution_count": null,
   "id": "6d805db2",
   "metadata": {},
   "outputs": [],
   "source": [
    "new_data.tail()"
   ]
  },
  {
   "cell_type": "raw",
   "id": "a73302ca",
   "metadata": {},
   "source": [
    "- Let's check the effect of seasonal behaviour on patronage (number of visitors) in each group of outlet\n",
    "- Print list of top 10 performing outlets"
   ]
  },
  {
   "cell_type": "code",
   "execution_count": null,
   "id": "75b954ca",
   "metadata": {},
   "outputs": [],
   "source": [
    "large_outlet_names"
   ]
  },
  {
   "cell_type": "code",
   "execution_count": null,
   "id": "4070720f",
   "metadata": {},
   "outputs": [],
   "source": [
    "# sns.pairplot(new_data)"
   ]
  },
  {
   "cell_type": "code",
   "execution_count": null,
   "id": "196bded9",
   "metadata": {},
   "outputs": [],
   "source": [
    "jan = new_data[new_data['Month']=='January']\n",
    "feb = new_data[new_data['Month']=='February']\n",
    "mar = new_data[new_data['Month']=='March']\n",
    "apr = new_data[new_data['Month']=='April']\n",
    "may = new_data[new_data['Month']=='May']\n",
    "june = new_data[new_data['Month']=='June']\n",
    "july = new_data[new_data['Month']=='July']\n",
    "aug = new_data[new_data['Month']=='August']\n",
    "sept = new_data[new_data['Month']=='September']\n",
    "octb = new_data[new_data['Month']=='October']\n",
    "nov = new_data[new_data['Month']=='November']\n",
    "dec = new_data[new_data['Month']=='December']"
   ]
  },
  {
   "cell_type": "code",
   "execution_count": null,
   "id": "459cabf9",
   "metadata": {},
   "outputs": [],
   "source": [
    "months = []\n",
    "for i in new_data['Month']:\n",
    "    if i not in months:\n",
    "        months.append(i)\n",
    "# months"
   ]
  },
  {
   "cell_type": "code",
   "execution_count": null,
   "id": "48e3c48c",
   "metadata": {},
   "outputs": [],
   "source": [
    "def visit(value):\n",
    "    result = []\n",
    "    result.extend(\n",
    "        (jan[value].sum(),feb[value].sum(),mar[value].sum(),apr[value].sum(),may[value].sum(),\n",
    "    june[value].sum(),july[value].sum(),aug[value].sum(),sept[value].sum(),octb[value].sum(),nov[value].sum(),\n",
    "    dec[value].sum())\n",
    "    )\n",
    "    return result"
   ]
  },
  {
   "cell_type": "code",
   "execution_count": null,
   "id": "047cd1e2",
   "metadata": {},
   "outputs": [],
   "source": []
  },
  {
   "cell_type": "code",
   "execution_count": null,
   "id": "4eedb795",
   "metadata": {},
   "outputs": [],
   "source": []
  },
  {
   "cell_type": "markdown",
   "id": "53fac4af",
   "metadata": {},
   "source": [
    "#### OUTLET RFY"
   ]
  },
  {
   "cell_type": "code",
   "execution_count": null,
   "id": "8f52f1ac",
   "metadata": {},
   "outputs": [],
   "source": [
    "plt.figure(figsize=(15,2))\n",
    "sns.scatterplot(x = months, y = visit('RFY'))"
   ]
  },
  {
   "cell_type": "markdown",
   "id": "36172224",
   "metadata": {},
   "source": [
    "**OUTLET RAN**"
   ]
  },
  {
   "cell_type": "code",
   "execution_count": null,
   "id": "e4f19a9e",
   "metadata": {},
   "outputs": [],
   "source": [
    "plt.figure(figsize=(15,2))\n",
    "sns.boxplot(x = months, y = visit('RAN'))"
   ]
  },
  {
   "cell_type": "markdown",
   "id": "3dfb124c",
   "metadata": {},
   "source": [
    "**OUTLET DMN**"
   ]
  },
  {
   "cell_type": "code",
   "execution_count": null,
   "id": "ad9d8996",
   "metadata": {},
   "outputs": [],
   "source": [
    "plt.figure(figsize=(15,2))\n",
    "sns.stripplot(x = months, y = visit('DMN'))"
   ]
  },
  {
   "cell_type": "markdown",
   "id": "f5ee4175",
   "metadata": {},
   "source": [
    "**OUTLET DSA**"
   ]
  },
  {
   "cell_type": "code",
   "execution_count": null,
   "id": "eefcda72",
   "metadata": {},
   "outputs": [],
   "source": [
    "plt.figure(figsize=(15,2))\n",
    "sns.violinplot(x = months, y = visit('DSA'))"
   ]
  },
  {
   "cell_type": "markdown",
   "id": "d650050c",
   "metadata": {},
   "source": [
    "**OUTLET EYS**"
   ]
  },
  {
   "cell_type": "code",
   "execution_count": null,
   "id": "af520069",
   "metadata": {},
   "outputs": [],
   "source": [
    "plt.figure(figsize=(15,2))\n",
    "sns.pointplot(x = months, y = visit('EYS'))"
   ]
  },
  {
   "cell_type": "code",
   "execution_count": null,
   "id": "604385a4",
   "metadata": {},
   "outputs": [],
   "source": []
  },
  {
   "cell_type": "code",
   "execution_count": null,
   "id": "c056d777",
   "metadata": {},
   "outputs": [],
   "source": []
  },
  {
   "cell_type": "markdown",
   "id": "89ad1b19",
   "metadata": {},
   "source": [
    "### CONCLUSION"
   ]
  },
  {
   "cell_type": "markdown",
   "id": "47f5cafd",
   "metadata": {},
   "source": []
  },
  {
   "cell_type": "code",
   "execution_count": null,
   "id": "45455812",
   "metadata": {},
   "outputs": [],
   "source": []
  }
 ],
 "metadata": {
  "kernelspec": {
   "display_name": "Python 3 (ipykernel)",
   "language": "python",
   "name": "python3"
  },
  "language_info": {
   "codemirror_mode": {
    "name": "ipython",
    "version": 3
   },
   "file_extension": ".py",
   "mimetype": "text/x-python",
   "name": "python",
   "nbconvert_exporter": "python",
   "pygments_lexer": "ipython3",
   "version": "3.9.13"
  }
 },
 "nbformat": 4,
 "nbformat_minor": 5
}
